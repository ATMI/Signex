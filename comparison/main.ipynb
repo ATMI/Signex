{
 "cells": [
  {
   "cell_type": "code",
   "execution_count": 1,
   "outputs": [],
   "source": [
    "import sys\n",
    "\n",
    "sys.path.append(\"..\")\n",
    "\n",
    "from math import ceil\n",
    "\n",
    "import torch\n",
    "import torch.nn.functional as F\n",
    "from IPython.display import display\n",
    "from torch import optim, nn\n",
    "from torch.utils.data import DataLoader\n",
    "from torchvision import transforms\n",
    "from torchvision.models import efficientnet_v2_s\n",
    "from torchvision.transforms import InterpolationMode\n",
    "\n",
    "from tri_dataset import TriDataset\n",
    "from tri_net import TriNet\n",
    "\n",
    "from comparator import Comparator"
   ],
   "metadata": {
    "collapsed": false,
    "pycharm": {
     "name": "#%%\n"
    }
   }
  },
  {
   "cell_type": "code",
   "execution_count": 2,
   "outputs": [],
   "source": [
    "train_path = \"dataset/train/\"\n",
    "test_path = \"dataset/test\"\n",
    "batch_size = 32\n",
    "lr = 0.0001\n",
    "momentum = 0.9\n",
    "epochs = 100\n",
    "input_size = 224\n",
    "\n",
    "aug_rotation = 10\n",
    "aug_translate = (0.05, 0.05)\n",
    "aug_scale = (1, 1)\n",
    "\n",
    "augmentation = transforms.RandomAffine(\n",
    "\tdegrees=aug_rotation,\n",
    "\ttranslate=aug_translate,\n",
    "\tscale=aug_scale,\n",
    "\tinterpolation=InterpolationMode.BILINEAR,\n",
    "\tfill=255\n",
    ")\n",
    "\n",
    "transform = transforms.Compose([\n",
    "\taugmentation,\n",
    "\tlambda image: Comparator.preprocess_image(image, input_size),\n",
    "\t# lambda image: display(image) or image,\n",
    "\tComparator.image_to_tensor()\n",
    "])"
   ],
   "metadata": {
    "collapsed": false,
    "pycharm": {
     "name": "#%%\n"
    }
   }
  },
  {
   "cell_type": "code",
   "execution_count": 3,
   "outputs": [],
   "source": [
    "def train():\n",
    "\t# architecture = efficientnet_v2_s()\n",
    "\t# architecture.features[0][0] = nn.Conv2d(1, 24, kernel_size=(3, 3), stride=(2, 2), padding=(1, 1), bias=False)\n",
    "\t# model = TriNet(architecture)\n",
    "\tmodel = torch.load(\"weights/best.pt\")\n",
    "\n",
    "\tdataset = TriDataset(train_path, transform=transform)\n",
    "\tdata_loader = DataLoader(dataset, batch_size=batch_size, shuffle=True)\n",
    "\toptimizer = optim.Adam(model.parameters(), lr=lr)\n",
    "\n",
    "\tloss_fn = nn.TripletMarginWithDistanceLoss(\n",
    "\t\tdistance_function=lambda x, y: (1.0 - F.cosine_similarity(x, y))\n",
    "\t)\n",
    "\n",
    "\tmodel.to(device)\n",
    "\tdisplay(model)\n",
    "\n",
    "\titer_count = ceil(len(dataset) / batch_size)\n",
    "\n",
    "\tfor epoch in range(epochs):\n",
    "\t\tmodel.train()\n",
    "\t\ti = 0\n",
    "\t\trunning_loss = 0\n",
    "\n",
    "\t\tfor batch_idx, (anchor, positive, negative) in enumerate(data_loader):\n",
    "\t\t\toptimizer.zero_grad()\n",
    "\n",
    "\t\t\tanchor = anchor.to(device)\n",
    "\t\t\tpositive = positive.to(device)\n",
    "\t\t\tnegative = negative.to(device)\n",
    "\n",
    "\t\t\t(anchor, positive, negative) = model.forward_tri(anchor, positive, negative)\n",
    "\t\t\tloss = loss_fn(anchor, positive, negative)\n",
    "\n",
    "\t\t\tloss.backward()\n",
    "\t\t\toptimizer.step()\n",
    "\n",
    "\t\t\tif i < iter_count:\n",
    "\t\t\t\tprint('\\r', end='')\n",
    "\n",
    "\t\t\ti += 1\n",
    "\t\t\tloss_item = loss.item()\n",
    "\n",
    "\t\t\tprint(f\"Epoch: {epoch + 1}/{epochs}, Iter: {i}/{iter_count}, Loss: {loss_item}\", end='')\n",
    "\n",
    "\t\t\trunning_loss += loss_item\n",
    "\t\t\tif i == iter_count:\n",
    "\t\t\t\tprint(f\"\\nAvg: {running_loss / iter_count}\")\n",
    "\t\t\t\trunning_loss = 0\n",
    "\n",
    "\t\tif (epoch + 1) % 100 == 0:\n",
    "\t\t\ttorch.save(model, f\"model_{epoch + 1}.pt\")\n",
    "\treturn model"
   ],
   "metadata": {
    "collapsed": false,
    "pycharm": {
     "name": "#%%\n"
    }
   }
  },
  {
   "cell_type": "code",
   "execution_count": 4,
   "outputs": [],
   "source": [
    "def test():\n",
    "\tdataset = TriDataset(test_path, transform=transform, display_info=True)\n",
    "\tdata_loader = DataLoader(dataset, batch_size=1, shuffle=False)\n",
    "\tmodel.eval()\n",
    "\twith torch.no_grad():\n",
    "\t\tfor batch_idx, (anchor, positive, negative) in enumerate(data_loader):\n",
    "\t\t\tanchor = anchor.to(device)\n",
    "\t\t\tpositive = positive.to(device)\n",
    "\t\t\tnegative = negative.to(device)\n",
    "\t\t\tanchor, positive, negative = model.forward_tri(anchor, positive, negative)\n",
    "\n",
    "\t\t\tpos = (1 - nn.functional.cosine_similarity(anchor, positive)) / 2\n",
    "\t\t\tneg = (1 - nn.functional.cosine_similarity(anchor, negative)) / 2\n",
    "\n",
    "\t\t\tprint(\n",
    "\t\t\t\tf\"Pos: {pos.item()}, Neg: {neg.item()}\")\n"
   ],
   "metadata": {
    "collapsed": false,
    "pycharm": {
     "name": "#%%\n"
    }
   }
  },
  {
   "cell_type": "code",
   "execution_count": 5,
   "outputs": [],
   "source": [
    "device = torch.device('cuda' if torch.cuda.is_available() else 'cpu')"
   ],
   "metadata": {
    "collapsed": false,
    "pycharm": {
     "name": "#%%\n"
    }
   }
  },
  {
   "cell_type": "code",
   "execution_count": null,
   "outputs": [
    {
     "data": {
      "text/plain": "TriNet(\n  (model): EfficientNet(\n    (features): Sequential(\n      (0): Conv2dNormActivation(\n        (0): Conv2d(1, 24, kernel_size=(3, 3), stride=(2, 2), padding=(1, 1), bias=False)\n        (1): BatchNorm2d(24, eps=0.001, momentum=0.1, affine=True, track_running_stats=True)\n        (2): SiLU(inplace=True)\n      )\n      (1): Sequential(\n        (0): FusedMBConv(\n          (block): Sequential(\n            (0): Conv2dNormActivation(\n              (0): Conv2d(24, 24, kernel_size=(3, 3), stride=(1, 1), padding=(1, 1), bias=False)\n              (1): BatchNorm2d(24, eps=0.001, momentum=0.1, affine=True, track_running_stats=True)\n              (2): SiLU(inplace=True)\n            )\n          )\n          (stochastic_depth): StochasticDepth(p=0.0, mode=row)\n        )\n        (1): FusedMBConv(\n          (block): Sequential(\n            (0): Conv2dNormActivation(\n              (0): Conv2d(24, 24, kernel_size=(3, 3), stride=(1, 1), padding=(1, 1), bias=False)\n              (1): BatchNorm2d(24, eps=0.001, momentum=0.1, affine=True, track_running_stats=True)\n              (2): SiLU(inplace=True)\n            )\n          )\n          (stochastic_depth): StochasticDepth(p=0.005, mode=row)\n        )\n      )\n      (2): Sequential(\n        (0): FusedMBConv(\n          (block): Sequential(\n            (0): Conv2dNormActivation(\n              (0): Conv2d(24, 96, kernel_size=(3, 3), stride=(2, 2), padding=(1, 1), bias=False)\n              (1): BatchNorm2d(96, eps=0.001, momentum=0.1, affine=True, track_running_stats=True)\n              (2): SiLU(inplace=True)\n            )\n            (1): Conv2dNormActivation(\n              (0): Conv2d(96, 48, kernel_size=(1, 1), stride=(1, 1), bias=False)\n              (1): BatchNorm2d(48, eps=0.001, momentum=0.1, affine=True, track_running_stats=True)\n            )\n          )\n          (stochastic_depth): StochasticDepth(p=0.01, mode=row)\n        )\n        (1): FusedMBConv(\n          (block): Sequential(\n            (0): Conv2dNormActivation(\n              (0): Conv2d(48, 192, kernel_size=(3, 3), stride=(1, 1), padding=(1, 1), bias=False)\n              (1): BatchNorm2d(192, eps=0.001, momentum=0.1, affine=True, track_running_stats=True)\n              (2): SiLU(inplace=True)\n            )\n            (1): Conv2dNormActivation(\n              (0): Conv2d(192, 48, kernel_size=(1, 1), stride=(1, 1), bias=False)\n              (1): BatchNorm2d(48, eps=0.001, momentum=0.1, affine=True, track_running_stats=True)\n            )\n          )\n          (stochastic_depth): StochasticDepth(p=0.015000000000000003, mode=row)\n        )\n        (2): FusedMBConv(\n          (block): Sequential(\n            (0): Conv2dNormActivation(\n              (0): Conv2d(48, 192, kernel_size=(3, 3), stride=(1, 1), padding=(1, 1), bias=False)\n              (1): BatchNorm2d(192, eps=0.001, momentum=0.1, affine=True, track_running_stats=True)\n              (2): SiLU(inplace=True)\n            )\n            (1): Conv2dNormActivation(\n              (0): Conv2d(192, 48, kernel_size=(1, 1), stride=(1, 1), bias=False)\n              (1): BatchNorm2d(48, eps=0.001, momentum=0.1, affine=True, track_running_stats=True)\n            )\n          )\n          (stochastic_depth): StochasticDepth(p=0.02, mode=row)\n        )\n        (3): FusedMBConv(\n          (block): Sequential(\n            (0): Conv2dNormActivation(\n              (0): Conv2d(48, 192, kernel_size=(3, 3), stride=(1, 1), padding=(1, 1), bias=False)\n              (1): BatchNorm2d(192, eps=0.001, momentum=0.1, affine=True, track_running_stats=True)\n              (2): SiLU(inplace=True)\n            )\n            (1): Conv2dNormActivation(\n              (0): Conv2d(192, 48, kernel_size=(1, 1), stride=(1, 1), bias=False)\n              (1): BatchNorm2d(48, eps=0.001, momentum=0.1, affine=True, track_running_stats=True)\n            )\n          )\n          (stochastic_depth): StochasticDepth(p=0.025, mode=row)\n        )\n      )\n      (3): Sequential(\n        (0): FusedMBConv(\n          (block): Sequential(\n            (0): Conv2dNormActivation(\n              (0): Conv2d(48, 192, kernel_size=(3, 3), stride=(2, 2), padding=(1, 1), bias=False)\n              (1): BatchNorm2d(192, eps=0.001, momentum=0.1, affine=True, track_running_stats=True)\n              (2): SiLU(inplace=True)\n            )\n            (1): Conv2dNormActivation(\n              (0): Conv2d(192, 64, kernel_size=(1, 1), stride=(1, 1), bias=False)\n              (1): BatchNorm2d(64, eps=0.001, momentum=0.1, affine=True, track_running_stats=True)\n            )\n          )\n          (stochastic_depth): StochasticDepth(p=0.030000000000000006, mode=row)\n        )\n        (1): FusedMBConv(\n          (block): Sequential(\n            (0): Conv2dNormActivation(\n              (0): Conv2d(64, 256, kernel_size=(3, 3), stride=(1, 1), padding=(1, 1), bias=False)\n              (1): BatchNorm2d(256, eps=0.001, momentum=0.1, affine=True, track_running_stats=True)\n              (2): SiLU(inplace=True)\n            )\n            (1): Conv2dNormActivation(\n              (0): Conv2d(256, 64, kernel_size=(1, 1), stride=(1, 1), bias=False)\n              (1): BatchNorm2d(64, eps=0.001, momentum=0.1, affine=True, track_running_stats=True)\n            )\n          )\n          (stochastic_depth): StochasticDepth(p=0.035, mode=row)\n        )\n        (2): FusedMBConv(\n          (block): Sequential(\n            (0): Conv2dNormActivation(\n              (0): Conv2d(64, 256, kernel_size=(3, 3), stride=(1, 1), padding=(1, 1), bias=False)\n              (1): BatchNorm2d(256, eps=0.001, momentum=0.1, affine=True, track_running_stats=True)\n              (2): SiLU(inplace=True)\n            )\n            (1): Conv2dNormActivation(\n              (0): Conv2d(256, 64, kernel_size=(1, 1), stride=(1, 1), bias=False)\n              (1): BatchNorm2d(64, eps=0.001, momentum=0.1, affine=True, track_running_stats=True)\n            )\n          )\n          (stochastic_depth): StochasticDepth(p=0.04, mode=row)\n        )\n        (3): FusedMBConv(\n          (block): Sequential(\n            (0): Conv2dNormActivation(\n              (0): Conv2d(64, 256, kernel_size=(3, 3), stride=(1, 1), padding=(1, 1), bias=False)\n              (1): BatchNorm2d(256, eps=0.001, momentum=0.1, affine=True, track_running_stats=True)\n              (2): SiLU(inplace=True)\n            )\n            (1): Conv2dNormActivation(\n              (0): Conv2d(256, 64, kernel_size=(1, 1), stride=(1, 1), bias=False)\n              (1): BatchNorm2d(64, eps=0.001, momentum=0.1, affine=True, track_running_stats=True)\n            )\n          )\n          (stochastic_depth): StochasticDepth(p=0.045, mode=row)\n        )\n      )\n      (4): Sequential(\n        (0): MBConv(\n          (block): Sequential(\n            (0): Conv2dNormActivation(\n              (0): Conv2d(64, 256, kernel_size=(1, 1), stride=(1, 1), bias=False)\n              (1): BatchNorm2d(256, eps=0.001, momentum=0.1, affine=True, track_running_stats=True)\n              (2): SiLU(inplace=True)\n            )\n            (1): Conv2dNormActivation(\n              (0): Conv2d(256, 256, kernel_size=(3, 3), stride=(2, 2), padding=(1, 1), groups=256, bias=False)\n              (1): BatchNorm2d(256, eps=0.001, momentum=0.1, affine=True, track_running_stats=True)\n              (2): SiLU(inplace=True)\n            )\n            (2): SqueezeExcitation(\n              (avgpool): AdaptiveAvgPool2d(output_size=1)\n              (fc1): Conv2d(256, 16, kernel_size=(1, 1), stride=(1, 1))\n              (fc2): Conv2d(16, 256, kernel_size=(1, 1), stride=(1, 1))\n              (activation): SiLU(inplace=True)\n              (scale_activation): Sigmoid()\n            )\n            (3): Conv2dNormActivation(\n              (0): Conv2d(256, 128, kernel_size=(1, 1), stride=(1, 1), bias=False)\n              (1): BatchNorm2d(128, eps=0.001, momentum=0.1, affine=True, track_running_stats=True)\n            )\n          )\n          (stochastic_depth): StochasticDepth(p=0.05, mode=row)\n        )\n        (1): MBConv(\n          (block): Sequential(\n            (0): Conv2dNormActivation(\n              (0): Conv2d(128, 512, kernel_size=(1, 1), stride=(1, 1), bias=False)\n              (1): BatchNorm2d(512, eps=0.001, momentum=0.1, affine=True, track_running_stats=True)\n              (2): SiLU(inplace=True)\n            )\n            (1): Conv2dNormActivation(\n              (0): Conv2d(512, 512, kernel_size=(3, 3), stride=(1, 1), padding=(1, 1), groups=512, bias=False)\n              (1): BatchNorm2d(512, eps=0.001, momentum=0.1, affine=True, track_running_stats=True)\n              (2): SiLU(inplace=True)\n            )\n            (2): SqueezeExcitation(\n              (avgpool): AdaptiveAvgPool2d(output_size=1)\n              (fc1): Conv2d(512, 32, kernel_size=(1, 1), stride=(1, 1))\n              (fc2): Conv2d(32, 512, kernel_size=(1, 1), stride=(1, 1))\n              (activation): SiLU(inplace=True)\n              (scale_activation): Sigmoid()\n            )\n            (3): Conv2dNormActivation(\n              (0): Conv2d(512, 128, kernel_size=(1, 1), stride=(1, 1), bias=False)\n              (1): BatchNorm2d(128, eps=0.001, momentum=0.1, affine=True, track_running_stats=True)\n            )\n          )\n          (stochastic_depth): StochasticDepth(p=0.05500000000000001, mode=row)\n        )\n        (2): MBConv(\n          (block): Sequential(\n            (0): Conv2dNormActivation(\n              (0): Conv2d(128, 512, kernel_size=(1, 1), stride=(1, 1), bias=False)\n              (1): BatchNorm2d(512, eps=0.001, momentum=0.1, affine=True, track_running_stats=True)\n              (2): SiLU(inplace=True)\n            )\n            (1): Conv2dNormActivation(\n              (0): Conv2d(512, 512, kernel_size=(3, 3), stride=(1, 1), padding=(1, 1), groups=512, bias=False)\n              (1): BatchNorm2d(512, eps=0.001, momentum=0.1, affine=True, track_running_stats=True)\n              (2): SiLU(inplace=True)\n            )\n            (2): SqueezeExcitation(\n              (avgpool): AdaptiveAvgPool2d(output_size=1)\n              (fc1): Conv2d(512, 32, kernel_size=(1, 1), stride=(1, 1))\n              (fc2): Conv2d(32, 512, kernel_size=(1, 1), stride=(1, 1))\n              (activation): SiLU(inplace=True)\n              (scale_activation): Sigmoid()\n            )\n            (3): Conv2dNormActivation(\n              (0): Conv2d(512, 128, kernel_size=(1, 1), stride=(1, 1), bias=False)\n              (1): BatchNorm2d(128, eps=0.001, momentum=0.1, affine=True, track_running_stats=True)\n            )\n          )\n          (stochastic_depth): StochasticDepth(p=0.06000000000000001, mode=row)\n        )\n        (3): MBConv(\n          (block): Sequential(\n            (0): Conv2dNormActivation(\n              (0): Conv2d(128, 512, kernel_size=(1, 1), stride=(1, 1), bias=False)\n              (1): BatchNorm2d(512, eps=0.001, momentum=0.1, affine=True, track_running_stats=True)\n              (2): SiLU(inplace=True)\n            )\n            (1): Conv2dNormActivation(\n              (0): Conv2d(512, 512, kernel_size=(3, 3), stride=(1, 1), padding=(1, 1), groups=512, bias=False)\n              (1): BatchNorm2d(512, eps=0.001, momentum=0.1, affine=True, track_running_stats=True)\n              (2): SiLU(inplace=True)\n            )\n            (2): SqueezeExcitation(\n              (avgpool): AdaptiveAvgPool2d(output_size=1)\n              (fc1): Conv2d(512, 32, kernel_size=(1, 1), stride=(1, 1))\n              (fc2): Conv2d(32, 512, kernel_size=(1, 1), stride=(1, 1))\n              (activation): SiLU(inplace=True)\n              (scale_activation): Sigmoid()\n            )\n            (3): Conv2dNormActivation(\n              (0): Conv2d(512, 128, kernel_size=(1, 1), stride=(1, 1), bias=False)\n              (1): BatchNorm2d(128, eps=0.001, momentum=0.1, affine=True, track_running_stats=True)\n            )\n          )\n          (stochastic_depth): StochasticDepth(p=0.065, mode=row)\n        )\n        (4): MBConv(\n          (block): Sequential(\n            (0): Conv2dNormActivation(\n              (0): Conv2d(128, 512, kernel_size=(1, 1), stride=(1, 1), bias=False)\n              (1): BatchNorm2d(512, eps=0.001, momentum=0.1, affine=True, track_running_stats=True)\n              (2): SiLU(inplace=True)\n            )\n            (1): Conv2dNormActivation(\n              (0): Conv2d(512, 512, kernel_size=(3, 3), stride=(1, 1), padding=(1, 1), groups=512, bias=False)\n              (1): BatchNorm2d(512, eps=0.001, momentum=0.1, affine=True, track_running_stats=True)\n              (2): SiLU(inplace=True)\n            )\n            (2): SqueezeExcitation(\n              (avgpool): AdaptiveAvgPool2d(output_size=1)\n              (fc1): Conv2d(512, 32, kernel_size=(1, 1), stride=(1, 1))\n              (fc2): Conv2d(32, 512, kernel_size=(1, 1), stride=(1, 1))\n              (activation): SiLU(inplace=True)\n              (scale_activation): Sigmoid()\n            )\n            (3): Conv2dNormActivation(\n              (0): Conv2d(512, 128, kernel_size=(1, 1), stride=(1, 1), bias=False)\n              (1): BatchNorm2d(128, eps=0.001, momentum=0.1, affine=True, track_running_stats=True)\n            )\n          )\n          (stochastic_depth): StochasticDepth(p=0.07, mode=row)\n        )\n        (5): MBConv(\n          (block): Sequential(\n            (0): Conv2dNormActivation(\n              (0): Conv2d(128, 512, kernel_size=(1, 1), stride=(1, 1), bias=False)\n              (1): BatchNorm2d(512, eps=0.001, momentum=0.1, affine=True, track_running_stats=True)\n              (2): SiLU(inplace=True)\n            )\n            (1): Conv2dNormActivation(\n              (0): Conv2d(512, 512, kernel_size=(3, 3), stride=(1, 1), padding=(1, 1), groups=512, bias=False)\n              (1): BatchNorm2d(512, eps=0.001, momentum=0.1, affine=True, track_running_stats=True)\n              (2): SiLU(inplace=True)\n            )\n            (2): SqueezeExcitation(\n              (avgpool): AdaptiveAvgPool2d(output_size=1)\n              (fc1): Conv2d(512, 32, kernel_size=(1, 1), stride=(1, 1))\n              (fc2): Conv2d(32, 512, kernel_size=(1, 1), stride=(1, 1))\n              (activation): SiLU(inplace=True)\n              (scale_activation): Sigmoid()\n            )\n            (3): Conv2dNormActivation(\n              (0): Conv2d(512, 128, kernel_size=(1, 1), stride=(1, 1), bias=False)\n              (1): BatchNorm2d(128, eps=0.001, momentum=0.1, affine=True, track_running_stats=True)\n            )\n          )\n          (stochastic_depth): StochasticDepth(p=0.075, mode=row)\n        )\n      )\n      (5): Sequential(\n        (0): MBConv(\n          (block): Sequential(\n            (0): Conv2dNormActivation(\n              (0): Conv2d(128, 768, kernel_size=(1, 1), stride=(1, 1), bias=False)\n              (1): BatchNorm2d(768, eps=0.001, momentum=0.1, affine=True, track_running_stats=True)\n              (2): SiLU(inplace=True)\n            )\n            (1): Conv2dNormActivation(\n              (0): Conv2d(768, 768, kernel_size=(3, 3), stride=(1, 1), padding=(1, 1), groups=768, bias=False)\n              (1): BatchNorm2d(768, eps=0.001, momentum=0.1, affine=True, track_running_stats=True)\n              (2): SiLU(inplace=True)\n            )\n            (2): SqueezeExcitation(\n              (avgpool): AdaptiveAvgPool2d(output_size=1)\n              (fc1): Conv2d(768, 32, kernel_size=(1, 1), stride=(1, 1))\n              (fc2): Conv2d(32, 768, kernel_size=(1, 1), stride=(1, 1))\n              (activation): SiLU(inplace=True)\n              (scale_activation): Sigmoid()\n            )\n            (3): Conv2dNormActivation(\n              (0): Conv2d(768, 160, kernel_size=(1, 1), stride=(1, 1), bias=False)\n              (1): BatchNorm2d(160, eps=0.001, momentum=0.1, affine=True, track_running_stats=True)\n            )\n          )\n          (stochastic_depth): StochasticDepth(p=0.08, mode=row)\n        )\n        (1): MBConv(\n          (block): Sequential(\n            (0): Conv2dNormActivation(\n              (0): Conv2d(160, 960, kernel_size=(1, 1), stride=(1, 1), bias=False)\n              (1): BatchNorm2d(960, eps=0.001, momentum=0.1, affine=True, track_running_stats=True)\n              (2): SiLU(inplace=True)\n            )\n            (1): Conv2dNormActivation(\n              (0): Conv2d(960, 960, kernel_size=(3, 3), stride=(1, 1), padding=(1, 1), groups=960, bias=False)\n              (1): BatchNorm2d(960, eps=0.001, momentum=0.1, affine=True, track_running_stats=True)\n              (2): SiLU(inplace=True)\n            )\n            (2): SqueezeExcitation(\n              (avgpool): AdaptiveAvgPool2d(output_size=1)\n              (fc1): Conv2d(960, 40, kernel_size=(1, 1), stride=(1, 1))\n              (fc2): Conv2d(40, 960, kernel_size=(1, 1), stride=(1, 1))\n              (activation): SiLU(inplace=True)\n              (scale_activation): Sigmoid()\n            )\n            (3): Conv2dNormActivation(\n              (0): Conv2d(960, 160, kernel_size=(1, 1), stride=(1, 1), bias=False)\n              (1): BatchNorm2d(160, eps=0.001, momentum=0.1, affine=True, track_running_stats=True)\n            )\n          )\n          (stochastic_depth): StochasticDepth(p=0.085, mode=row)\n        )\n        (2): MBConv(\n          (block): Sequential(\n            (0): Conv2dNormActivation(\n              (0): Conv2d(160, 960, kernel_size=(1, 1), stride=(1, 1), bias=False)\n              (1): BatchNorm2d(960, eps=0.001, momentum=0.1, affine=True, track_running_stats=True)\n              (2): SiLU(inplace=True)\n            )\n            (1): Conv2dNormActivation(\n              (0): Conv2d(960, 960, kernel_size=(3, 3), stride=(1, 1), padding=(1, 1), groups=960, bias=False)\n              (1): BatchNorm2d(960, eps=0.001, momentum=0.1, affine=True, track_running_stats=True)\n              (2): SiLU(inplace=True)\n            )\n            (2): SqueezeExcitation(\n              (avgpool): AdaptiveAvgPool2d(output_size=1)\n              (fc1): Conv2d(960, 40, kernel_size=(1, 1), stride=(1, 1))\n              (fc2): Conv2d(40, 960, kernel_size=(1, 1), stride=(1, 1))\n              (activation): SiLU(inplace=True)\n              (scale_activation): Sigmoid()\n            )\n            (3): Conv2dNormActivation(\n              (0): Conv2d(960, 160, kernel_size=(1, 1), stride=(1, 1), bias=False)\n              (1): BatchNorm2d(160, eps=0.001, momentum=0.1, affine=True, track_running_stats=True)\n            )\n          )\n          (stochastic_depth): StochasticDepth(p=0.09, mode=row)\n        )\n        (3): MBConv(\n          (block): Sequential(\n            (0): Conv2dNormActivation(\n              (0): Conv2d(160, 960, kernel_size=(1, 1), stride=(1, 1), bias=False)\n              (1): BatchNorm2d(960, eps=0.001, momentum=0.1, affine=True, track_running_stats=True)\n              (2): SiLU(inplace=True)\n            )\n            (1): Conv2dNormActivation(\n              (0): Conv2d(960, 960, kernel_size=(3, 3), stride=(1, 1), padding=(1, 1), groups=960, bias=False)\n              (1): BatchNorm2d(960, eps=0.001, momentum=0.1, affine=True, track_running_stats=True)\n              (2): SiLU(inplace=True)\n            )\n            (2): SqueezeExcitation(\n              (avgpool): AdaptiveAvgPool2d(output_size=1)\n              (fc1): Conv2d(960, 40, kernel_size=(1, 1), stride=(1, 1))\n              (fc2): Conv2d(40, 960, kernel_size=(1, 1), stride=(1, 1))\n              (activation): SiLU(inplace=True)\n              (scale_activation): Sigmoid()\n            )\n            (3): Conv2dNormActivation(\n              (0): Conv2d(960, 160, kernel_size=(1, 1), stride=(1, 1), bias=False)\n              (1): BatchNorm2d(160, eps=0.001, momentum=0.1, affine=True, track_running_stats=True)\n            )\n          )\n          (stochastic_depth): StochasticDepth(p=0.095, mode=row)\n        )\n        (4): MBConv(\n          (block): Sequential(\n            (0): Conv2dNormActivation(\n              (0): Conv2d(160, 960, kernel_size=(1, 1), stride=(1, 1), bias=False)\n              (1): BatchNorm2d(960, eps=0.001, momentum=0.1, affine=True, track_running_stats=True)\n              (2): SiLU(inplace=True)\n            )\n            (1): Conv2dNormActivation(\n              (0): Conv2d(960, 960, kernel_size=(3, 3), stride=(1, 1), padding=(1, 1), groups=960, bias=False)\n              (1): BatchNorm2d(960, eps=0.001, momentum=0.1, affine=True, track_running_stats=True)\n              (2): SiLU(inplace=True)\n            )\n            (2): SqueezeExcitation(\n              (avgpool): AdaptiveAvgPool2d(output_size=1)\n              (fc1): Conv2d(960, 40, kernel_size=(1, 1), stride=(1, 1))\n              (fc2): Conv2d(40, 960, kernel_size=(1, 1), stride=(1, 1))\n              (activation): SiLU(inplace=True)\n              (scale_activation): Sigmoid()\n            )\n            (3): Conv2dNormActivation(\n              (0): Conv2d(960, 160, kernel_size=(1, 1), stride=(1, 1), bias=False)\n              (1): BatchNorm2d(160, eps=0.001, momentum=0.1, affine=True, track_running_stats=True)\n            )\n          )\n          (stochastic_depth): StochasticDepth(p=0.1, mode=row)\n        )\n        (5): MBConv(\n          (block): Sequential(\n            (0): Conv2dNormActivation(\n              (0): Conv2d(160, 960, kernel_size=(1, 1), stride=(1, 1), bias=False)\n              (1): BatchNorm2d(960, eps=0.001, momentum=0.1, affine=True, track_running_stats=True)\n              (2): SiLU(inplace=True)\n            )\n            (1): Conv2dNormActivation(\n              (0): Conv2d(960, 960, kernel_size=(3, 3), stride=(1, 1), padding=(1, 1), groups=960, bias=False)\n              (1): BatchNorm2d(960, eps=0.001, momentum=0.1, affine=True, track_running_stats=True)\n              (2): SiLU(inplace=True)\n            )\n            (2): SqueezeExcitation(\n              (avgpool): AdaptiveAvgPool2d(output_size=1)\n              (fc1): Conv2d(960, 40, kernel_size=(1, 1), stride=(1, 1))\n              (fc2): Conv2d(40, 960, kernel_size=(1, 1), stride=(1, 1))\n              (activation): SiLU(inplace=True)\n              (scale_activation): Sigmoid()\n            )\n            (3): Conv2dNormActivation(\n              (0): Conv2d(960, 160, kernel_size=(1, 1), stride=(1, 1), bias=False)\n              (1): BatchNorm2d(160, eps=0.001, momentum=0.1, affine=True, track_running_stats=True)\n            )\n          )\n          (stochastic_depth): StochasticDepth(p=0.10500000000000001, mode=row)\n        )\n        (6): MBConv(\n          (block): Sequential(\n            (0): Conv2dNormActivation(\n              (0): Conv2d(160, 960, kernel_size=(1, 1), stride=(1, 1), bias=False)\n              (1): BatchNorm2d(960, eps=0.001, momentum=0.1, affine=True, track_running_stats=True)\n              (2): SiLU(inplace=True)\n            )\n            (1): Conv2dNormActivation(\n              (0): Conv2d(960, 960, kernel_size=(3, 3), stride=(1, 1), padding=(1, 1), groups=960, bias=False)\n              (1): BatchNorm2d(960, eps=0.001, momentum=0.1, affine=True, track_running_stats=True)\n              (2): SiLU(inplace=True)\n            )\n            (2): SqueezeExcitation(\n              (avgpool): AdaptiveAvgPool2d(output_size=1)\n              (fc1): Conv2d(960, 40, kernel_size=(1, 1), stride=(1, 1))\n              (fc2): Conv2d(40, 960, kernel_size=(1, 1), stride=(1, 1))\n              (activation): SiLU(inplace=True)\n              (scale_activation): Sigmoid()\n            )\n            (3): Conv2dNormActivation(\n              (0): Conv2d(960, 160, kernel_size=(1, 1), stride=(1, 1), bias=False)\n              (1): BatchNorm2d(160, eps=0.001, momentum=0.1, affine=True, track_running_stats=True)\n            )\n          )\n          (stochastic_depth): StochasticDepth(p=0.11000000000000001, mode=row)\n        )\n        (7): MBConv(\n          (block): Sequential(\n            (0): Conv2dNormActivation(\n              (0): Conv2d(160, 960, kernel_size=(1, 1), stride=(1, 1), bias=False)\n              (1): BatchNorm2d(960, eps=0.001, momentum=0.1, affine=True, track_running_stats=True)\n              (2): SiLU(inplace=True)\n            )\n            (1): Conv2dNormActivation(\n              (0): Conv2d(960, 960, kernel_size=(3, 3), stride=(1, 1), padding=(1, 1), groups=960, bias=False)\n              (1): BatchNorm2d(960, eps=0.001, momentum=0.1, affine=True, track_running_stats=True)\n              (2): SiLU(inplace=True)\n            )\n            (2): SqueezeExcitation(\n              (avgpool): AdaptiveAvgPool2d(output_size=1)\n              (fc1): Conv2d(960, 40, kernel_size=(1, 1), stride=(1, 1))\n              (fc2): Conv2d(40, 960, kernel_size=(1, 1), stride=(1, 1))\n              (activation): SiLU(inplace=True)\n              (scale_activation): Sigmoid()\n            )\n            (3): Conv2dNormActivation(\n              (0): Conv2d(960, 160, kernel_size=(1, 1), stride=(1, 1), bias=False)\n              (1): BatchNorm2d(160, eps=0.001, momentum=0.1, affine=True, track_running_stats=True)\n            )\n          )\n          (stochastic_depth): StochasticDepth(p=0.11500000000000002, mode=row)\n        )\n        (8): MBConv(\n          (block): Sequential(\n            (0): Conv2dNormActivation(\n              (0): Conv2d(160, 960, kernel_size=(1, 1), stride=(1, 1), bias=False)\n              (1): BatchNorm2d(960, eps=0.001, momentum=0.1, affine=True, track_running_stats=True)\n              (2): SiLU(inplace=True)\n            )\n            (1): Conv2dNormActivation(\n              (0): Conv2d(960, 960, kernel_size=(3, 3), stride=(1, 1), padding=(1, 1), groups=960, bias=False)\n              (1): BatchNorm2d(960, eps=0.001, momentum=0.1, affine=True, track_running_stats=True)\n              (2): SiLU(inplace=True)\n            )\n            (2): SqueezeExcitation(\n              (avgpool): AdaptiveAvgPool2d(output_size=1)\n              (fc1): Conv2d(960, 40, kernel_size=(1, 1), stride=(1, 1))\n              (fc2): Conv2d(40, 960, kernel_size=(1, 1), stride=(1, 1))\n              (activation): SiLU(inplace=True)\n              (scale_activation): Sigmoid()\n            )\n            (3): Conv2dNormActivation(\n              (0): Conv2d(960, 160, kernel_size=(1, 1), stride=(1, 1), bias=False)\n              (1): BatchNorm2d(160, eps=0.001, momentum=0.1, affine=True, track_running_stats=True)\n            )\n          )\n          (stochastic_depth): StochasticDepth(p=0.12000000000000002, mode=row)\n        )\n      )\n      (6): Sequential(\n        (0): MBConv(\n          (block): Sequential(\n            (0): Conv2dNormActivation(\n              (0): Conv2d(160, 960, kernel_size=(1, 1), stride=(1, 1), bias=False)\n              (1): BatchNorm2d(960, eps=0.001, momentum=0.1, affine=True, track_running_stats=True)\n              (2): SiLU(inplace=True)\n            )\n            (1): Conv2dNormActivation(\n              (0): Conv2d(960, 960, kernel_size=(3, 3), stride=(2, 2), padding=(1, 1), groups=960, bias=False)\n              (1): BatchNorm2d(960, eps=0.001, momentum=0.1, affine=True, track_running_stats=True)\n              (2): SiLU(inplace=True)\n            )\n            (2): SqueezeExcitation(\n              (avgpool): AdaptiveAvgPool2d(output_size=1)\n              (fc1): Conv2d(960, 40, kernel_size=(1, 1), stride=(1, 1))\n              (fc2): Conv2d(40, 960, kernel_size=(1, 1), stride=(1, 1))\n              (activation): SiLU(inplace=True)\n              (scale_activation): Sigmoid()\n            )\n            (3): Conv2dNormActivation(\n              (0): Conv2d(960, 256, kernel_size=(1, 1), stride=(1, 1), bias=False)\n              (1): BatchNorm2d(256, eps=0.001, momentum=0.1, affine=True, track_running_stats=True)\n            )\n          )\n          (stochastic_depth): StochasticDepth(p=0.125, mode=row)\n        )\n        (1): MBConv(\n          (block): Sequential(\n            (0): Conv2dNormActivation(\n              (0): Conv2d(256, 1536, kernel_size=(1, 1), stride=(1, 1), bias=False)\n              (1): BatchNorm2d(1536, eps=0.001, momentum=0.1, affine=True, track_running_stats=True)\n              (2): SiLU(inplace=True)\n            )\n            (1): Conv2dNormActivation(\n              (0): Conv2d(1536, 1536, kernel_size=(3, 3), stride=(1, 1), padding=(1, 1), groups=1536, bias=False)\n              (1): BatchNorm2d(1536, eps=0.001, momentum=0.1, affine=True, track_running_stats=True)\n              (2): SiLU(inplace=True)\n            )\n            (2): SqueezeExcitation(\n              (avgpool): AdaptiveAvgPool2d(output_size=1)\n              (fc1): Conv2d(1536, 64, kernel_size=(1, 1), stride=(1, 1))\n              (fc2): Conv2d(64, 1536, kernel_size=(1, 1), stride=(1, 1))\n              (activation): SiLU(inplace=True)\n              (scale_activation): Sigmoid()\n            )\n            (3): Conv2dNormActivation(\n              (0): Conv2d(1536, 256, kernel_size=(1, 1), stride=(1, 1), bias=False)\n              (1): BatchNorm2d(256, eps=0.001, momentum=0.1, affine=True, track_running_stats=True)\n            )\n          )\n          (stochastic_depth): StochasticDepth(p=0.13, mode=row)\n        )\n        (2): MBConv(\n          (block): Sequential(\n            (0): Conv2dNormActivation(\n              (0): Conv2d(256, 1536, kernel_size=(1, 1), stride=(1, 1), bias=False)\n              (1): BatchNorm2d(1536, eps=0.001, momentum=0.1, affine=True, track_running_stats=True)\n              (2): SiLU(inplace=True)\n            )\n            (1): Conv2dNormActivation(\n              (0): Conv2d(1536, 1536, kernel_size=(3, 3), stride=(1, 1), padding=(1, 1), groups=1536, bias=False)\n              (1): BatchNorm2d(1536, eps=0.001, momentum=0.1, affine=True, track_running_stats=True)\n              (2): SiLU(inplace=True)\n            )\n            (2): SqueezeExcitation(\n              (avgpool): AdaptiveAvgPool2d(output_size=1)\n              (fc1): Conv2d(1536, 64, kernel_size=(1, 1), stride=(1, 1))\n              (fc2): Conv2d(64, 1536, kernel_size=(1, 1), stride=(1, 1))\n              (activation): SiLU(inplace=True)\n              (scale_activation): Sigmoid()\n            )\n            (3): Conv2dNormActivation(\n              (0): Conv2d(1536, 256, kernel_size=(1, 1), stride=(1, 1), bias=False)\n              (1): BatchNorm2d(256, eps=0.001, momentum=0.1, affine=True, track_running_stats=True)\n            )\n          )\n          (stochastic_depth): StochasticDepth(p=0.135, mode=row)\n        )\n        (3): MBConv(\n          (block): Sequential(\n            (0): Conv2dNormActivation(\n              (0): Conv2d(256, 1536, kernel_size=(1, 1), stride=(1, 1), bias=False)\n              (1): BatchNorm2d(1536, eps=0.001, momentum=0.1, affine=True, track_running_stats=True)\n              (2): SiLU(inplace=True)\n            )\n            (1): Conv2dNormActivation(\n              (0): Conv2d(1536, 1536, kernel_size=(3, 3), stride=(1, 1), padding=(1, 1), groups=1536, bias=False)\n              (1): BatchNorm2d(1536, eps=0.001, momentum=0.1, affine=True, track_running_stats=True)\n              (2): SiLU(inplace=True)\n            )\n            (2): SqueezeExcitation(\n              (avgpool): AdaptiveAvgPool2d(output_size=1)\n              (fc1): Conv2d(1536, 64, kernel_size=(1, 1), stride=(1, 1))\n              (fc2): Conv2d(64, 1536, kernel_size=(1, 1), stride=(1, 1))\n              (activation): SiLU(inplace=True)\n              (scale_activation): Sigmoid()\n            )\n            (3): Conv2dNormActivation(\n              (0): Conv2d(1536, 256, kernel_size=(1, 1), stride=(1, 1), bias=False)\n              (1): BatchNorm2d(256, eps=0.001, momentum=0.1, affine=True, track_running_stats=True)\n            )\n          )\n          (stochastic_depth): StochasticDepth(p=0.14, mode=row)\n        )\n        (4): MBConv(\n          (block): Sequential(\n            (0): Conv2dNormActivation(\n              (0): Conv2d(256, 1536, kernel_size=(1, 1), stride=(1, 1), bias=False)\n              (1): BatchNorm2d(1536, eps=0.001, momentum=0.1, affine=True, track_running_stats=True)\n              (2): SiLU(inplace=True)\n            )\n            (1): Conv2dNormActivation(\n              (0): Conv2d(1536, 1536, kernel_size=(3, 3), stride=(1, 1), padding=(1, 1), groups=1536, bias=False)\n              (1): BatchNorm2d(1536, eps=0.001, momentum=0.1, affine=True, track_running_stats=True)\n              (2): SiLU(inplace=True)\n            )\n            (2): SqueezeExcitation(\n              (avgpool): AdaptiveAvgPool2d(output_size=1)\n              (fc1): Conv2d(1536, 64, kernel_size=(1, 1), stride=(1, 1))\n              (fc2): Conv2d(64, 1536, kernel_size=(1, 1), stride=(1, 1))\n              (activation): SiLU(inplace=True)\n              (scale_activation): Sigmoid()\n            )\n            (3): Conv2dNormActivation(\n              (0): Conv2d(1536, 256, kernel_size=(1, 1), stride=(1, 1), bias=False)\n              (1): BatchNorm2d(256, eps=0.001, momentum=0.1, affine=True, track_running_stats=True)\n            )\n          )\n          (stochastic_depth): StochasticDepth(p=0.14500000000000002, mode=row)\n        )\n        (5): MBConv(\n          (block): Sequential(\n            (0): Conv2dNormActivation(\n              (0): Conv2d(256, 1536, kernel_size=(1, 1), stride=(1, 1), bias=False)\n              (1): BatchNorm2d(1536, eps=0.001, momentum=0.1, affine=True, track_running_stats=True)\n              (2): SiLU(inplace=True)\n            )\n            (1): Conv2dNormActivation(\n              (0): Conv2d(1536, 1536, kernel_size=(3, 3), stride=(1, 1), padding=(1, 1), groups=1536, bias=False)\n              (1): BatchNorm2d(1536, eps=0.001, momentum=0.1, affine=True, track_running_stats=True)\n              (2): SiLU(inplace=True)\n            )\n            (2): SqueezeExcitation(\n              (avgpool): AdaptiveAvgPool2d(output_size=1)\n              (fc1): Conv2d(1536, 64, kernel_size=(1, 1), stride=(1, 1))\n              (fc2): Conv2d(64, 1536, kernel_size=(1, 1), stride=(1, 1))\n              (activation): SiLU(inplace=True)\n              (scale_activation): Sigmoid()\n            )\n            (3): Conv2dNormActivation(\n              (0): Conv2d(1536, 256, kernel_size=(1, 1), stride=(1, 1), bias=False)\n              (1): BatchNorm2d(256, eps=0.001, momentum=0.1, affine=True, track_running_stats=True)\n            )\n          )\n          (stochastic_depth): StochasticDepth(p=0.15, mode=row)\n        )\n        (6): MBConv(\n          (block): Sequential(\n            (0): Conv2dNormActivation(\n              (0): Conv2d(256, 1536, kernel_size=(1, 1), stride=(1, 1), bias=False)\n              (1): BatchNorm2d(1536, eps=0.001, momentum=0.1, affine=True, track_running_stats=True)\n              (2): SiLU(inplace=True)\n            )\n            (1): Conv2dNormActivation(\n              (0): Conv2d(1536, 1536, kernel_size=(3, 3), stride=(1, 1), padding=(1, 1), groups=1536, bias=False)\n              (1): BatchNorm2d(1536, eps=0.001, momentum=0.1, affine=True, track_running_stats=True)\n              (2): SiLU(inplace=True)\n            )\n            (2): SqueezeExcitation(\n              (avgpool): AdaptiveAvgPool2d(output_size=1)\n              (fc1): Conv2d(1536, 64, kernel_size=(1, 1), stride=(1, 1))\n              (fc2): Conv2d(64, 1536, kernel_size=(1, 1), stride=(1, 1))\n              (activation): SiLU(inplace=True)\n              (scale_activation): Sigmoid()\n            )\n            (3): Conv2dNormActivation(\n              (0): Conv2d(1536, 256, kernel_size=(1, 1), stride=(1, 1), bias=False)\n              (1): BatchNorm2d(256, eps=0.001, momentum=0.1, affine=True, track_running_stats=True)\n            )\n          )\n          (stochastic_depth): StochasticDepth(p=0.155, mode=row)\n        )\n        (7): MBConv(\n          (block): Sequential(\n            (0): Conv2dNormActivation(\n              (0): Conv2d(256, 1536, kernel_size=(1, 1), stride=(1, 1), bias=False)\n              (1): BatchNorm2d(1536, eps=0.001, momentum=0.1, affine=True, track_running_stats=True)\n              (2): SiLU(inplace=True)\n            )\n            (1): Conv2dNormActivation(\n              (0): Conv2d(1536, 1536, kernel_size=(3, 3), stride=(1, 1), padding=(1, 1), groups=1536, bias=False)\n              (1): BatchNorm2d(1536, eps=0.001, momentum=0.1, affine=True, track_running_stats=True)\n              (2): SiLU(inplace=True)\n            )\n            (2): SqueezeExcitation(\n              (avgpool): AdaptiveAvgPool2d(output_size=1)\n              (fc1): Conv2d(1536, 64, kernel_size=(1, 1), stride=(1, 1))\n              (fc2): Conv2d(64, 1536, kernel_size=(1, 1), stride=(1, 1))\n              (activation): SiLU(inplace=True)\n              (scale_activation): Sigmoid()\n            )\n            (3): Conv2dNormActivation(\n              (0): Conv2d(1536, 256, kernel_size=(1, 1), stride=(1, 1), bias=False)\n              (1): BatchNorm2d(256, eps=0.001, momentum=0.1, affine=True, track_running_stats=True)\n            )\n          )\n          (stochastic_depth): StochasticDepth(p=0.16, mode=row)\n        )\n        (8): MBConv(\n          (block): Sequential(\n            (0): Conv2dNormActivation(\n              (0): Conv2d(256, 1536, kernel_size=(1, 1), stride=(1, 1), bias=False)\n              (1): BatchNorm2d(1536, eps=0.001, momentum=0.1, affine=True, track_running_stats=True)\n              (2): SiLU(inplace=True)\n            )\n            (1): Conv2dNormActivation(\n              (0): Conv2d(1536, 1536, kernel_size=(3, 3), stride=(1, 1), padding=(1, 1), groups=1536, bias=False)\n              (1): BatchNorm2d(1536, eps=0.001, momentum=0.1, affine=True, track_running_stats=True)\n              (2): SiLU(inplace=True)\n            )\n            (2): SqueezeExcitation(\n              (avgpool): AdaptiveAvgPool2d(output_size=1)\n              (fc1): Conv2d(1536, 64, kernel_size=(1, 1), stride=(1, 1))\n              (fc2): Conv2d(64, 1536, kernel_size=(1, 1), stride=(1, 1))\n              (activation): SiLU(inplace=True)\n              (scale_activation): Sigmoid()\n            )\n            (3): Conv2dNormActivation(\n              (0): Conv2d(1536, 256, kernel_size=(1, 1), stride=(1, 1), bias=False)\n              (1): BatchNorm2d(256, eps=0.001, momentum=0.1, affine=True, track_running_stats=True)\n            )\n          )\n          (stochastic_depth): StochasticDepth(p=0.165, mode=row)\n        )\n        (9): MBConv(\n          (block): Sequential(\n            (0): Conv2dNormActivation(\n              (0): Conv2d(256, 1536, kernel_size=(1, 1), stride=(1, 1), bias=False)\n              (1): BatchNorm2d(1536, eps=0.001, momentum=0.1, affine=True, track_running_stats=True)\n              (2): SiLU(inplace=True)\n            )\n            (1): Conv2dNormActivation(\n              (0): Conv2d(1536, 1536, kernel_size=(3, 3), stride=(1, 1), padding=(1, 1), groups=1536, bias=False)\n              (1): BatchNorm2d(1536, eps=0.001, momentum=0.1, affine=True, track_running_stats=True)\n              (2): SiLU(inplace=True)\n            )\n            (2): SqueezeExcitation(\n              (avgpool): AdaptiveAvgPool2d(output_size=1)\n              (fc1): Conv2d(1536, 64, kernel_size=(1, 1), stride=(1, 1))\n              (fc2): Conv2d(64, 1536, kernel_size=(1, 1), stride=(1, 1))\n              (activation): SiLU(inplace=True)\n              (scale_activation): Sigmoid()\n            )\n            (3): Conv2dNormActivation(\n              (0): Conv2d(1536, 256, kernel_size=(1, 1), stride=(1, 1), bias=False)\n              (1): BatchNorm2d(256, eps=0.001, momentum=0.1, affine=True, track_running_stats=True)\n            )\n          )\n          (stochastic_depth): StochasticDepth(p=0.17, mode=row)\n        )\n        (10): MBConv(\n          (block): Sequential(\n            (0): Conv2dNormActivation(\n              (0): Conv2d(256, 1536, kernel_size=(1, 1), stride=(1, 1), bias=False)\n              (1): BatchNorm2d(1536, eps=0.001, momentum=0.1, affine=True, track_running_stats=True)\n              (2): SiLU(inplace=True)\n            )\n            (1): Conv2dNormActivation(\n              (0): Conv2d(1536, 1536, kernel_size=(3, 3), stride=(1, 1), padding=(1, 1), groups=1536, bias=False)\n              (1): BatchNorm2d(1536, eps=0.001, momentum=0.1, affine=True, track_running_stats=True)\n              (2): SiLU(inplace=True)\n            )\n            (2): SqueezeExcitation(\n              (avgpool): AdaptiveAvgPool2d(output_size=1)\n              (fc1): Conv2d(1536, 64, kernel_size=(1, 1), stride=(1, 1))\n              (fc2): Conv2d(64, 1536, kernel_size=(1, 1), stride=(1, 1))\n              (activation): SiLU(inplace=True)\n              (scale_activation): Sigmoid()\n            )\n            (3): Conv2dNormActivation(\n              (0): Conv2d(1536, 256, kernel_size=(1, 1), stride=(1, 1), bias=False)\n              (1): BatchNorm2d(256, eps=0.001, momentum=0.1, affine=True, track_running_stats=True)\n            )\n          )\n          (stochastic_depth): StochasticDepth(p=0.175, mode=row)\n        )\n        (11): MBConv(\n          (block): Sequential(\n            (0): Conv2dNormActivation(\n              (0): Conv2d(256, 1536, kernel_size=(1, 1), stride=(1, 1), bias=False)\n              (1): BatchNorm2d(1536, eps=0.001, momentum=0.1, affine=True, track_running_stats=True)\n              (2): SiLU(inplace=True)\n            )\n            (1): Conv2dNormActivation(\n              (0): Conv2d(1536, 1536, kernel_size=(3, 3), stride=(1, 1), padding=(1, 1), groups=1536, bias=False)\n              (1): BatchNorm2d(1536, eps=0.001, momentum=0.1, affine=True, track_running_stats=True)\n              (2): SiLU(inplace=True)\n            )\n            (2): SqueezeExcitation(\n              (avgpool): AdaptiveAvgPool2d(output_size=1)\n              (fc1): Conv2d(1536, 64, kernel_size=(1, 1), stride=(1, 1))\n              (fc2): Conv2d(64, 1536, kernel_size=(1, 1), stride=(1, 1))\n              (activation): SiLU(inplace=True)\n              (scale_activation): Sigmoid()\n            )\n            (3): Conv2dNormActivation(\n              (0): Conv2d(1536, 256, kernel_size=(1, 1), stride=(1, 1), bias=False)\n              (1): BatchNorm2d(256, eps=0.001, momentum=0.1, affine=True, track_running_stats=True)\n            )\n          )\n          (stochastic_depth): StochasticDepth(p=0.18, mode=row)\n        )\n        (12): MBConv(\n          (block): Sequential(\n            (0): Conv2dNormActivation(\n              (0): Conv2d(256, 1536, kernel_size=(1, 1), stride=(1, 1), bias=False)\n              (1): BatchNorm2d(1536, eps=0.001, momentum=0.1, affine=True, track_running_stats=True)\n              (2): SiLU(inplace=True)\n            )\n            (1): Conv2dNormActivation(\n              (0): Conv2d(1536, 1536, kernel_size=(3, 3), stride=(1, 1), padding=(1, 1), groups=1536, bias=False)\n              (1): BatchNorm2d(1536, eps=0.001, momentum=0.1, affine=True, track_running_stats=True)\n              (2): SiLU(inplace=True)\n            )\n            (2): SqueezeExcitation(\n              (avgpool): AdaptiveAvgPool2d(output_size=1)\n              (fc1): Conv2d(1536, 64, kernel_size=(1, 1), stride=(1, 1))\n              (fc2): Conv2d(64, 1536, kernel_size=(1, 1), stride=(1, 1))\n              (activation): SiLU(inplace=True)\n              (scale_activation): Sigmoid()\n            )\n            (3): Conv2dNormActivation(\n              (0): Conv2d(1536, 256, kernel_size=(1, 1), stride=(1, 1), bias=False)\n              (1): BatchNorm2d(256, eps=0.001, momentum=0.1, affine=True, track_running_stats=True)\n            )\n          )\n          (stochastic_depth): StochasticDepth(p=0.185, mode=row)\n        )\n        (13): MBConv(\n          (block): Sequential(\n            (0): Conv2dNormActivation(\n              (0): Conv2d(256, 1536, kernel_size=(1, 1), stride=(1, 1), bias=False)\n              (1): BatchNorm2d(1536, eps=0.001, momentum=0.1, affine=True, track_running_stats=True)\n              (2): SiLU(inplace=True)\n            )\n            (1): Conv2dNormActivation(\n              (0): Conv2d(1536, 1536, kernel_size=(3, 3), stride=(1, 1), padding=(1, 1), groups=1536, bias=False)\n              (1): BatchNorm2d(1536, eps=0.001, momentum=0.1, affine=True, track_running_stats=True)\n              (2): SiLU(inplace=True)\n            )\n            (2): SqueezeExcitation(\n              (avgpool): AdaptiveAvgPool2d(output_size=1)\n              (fc1): Conv2d(1536, 64, kernel_size=(1, 1), stride=(1, 1))\n              (fc2): Conv2d(64, 1536, kernel_size=(1, 1), stride=(1, 1))\n              (activation): SiLU(inplace=True)\n              (scale_activation): Sigmoid()\n            )\n            (3): Conv2dNormActivation(\n              (0): Conv2d(1536, 256, kernel_size=(1, 1), stride=(1, 1), bias=False)\n              (1): BatchNorm2d(256, eps=0.001, momentum=0.1, affine=True, track_running_stats=True)\n            )\n          )\n          (stochastic_depth): StochasticDepth(p=0.19, mode=row)\n        )\n        (14): MBConv(\n          (block): Sequential(\n            (0): Conv2dNormActivation(\n              (0): Conv2d(256, 1536, kernel_size=(1, 1), stride=(1, 1), bias=False)\n              (1): BatchNorm2d(1536, eps=0.001, momentum=0.1, affine=True, track_running_stats=True)\n              (2): SiLU(inplace=True)\n            )\n            (1): Conv2dNormActivation(\n              (0): Conv2d(1536, 1536, kernel_size=(3, 3), stride=(1, 1), padding=(1, 1), groups=1536, bias=False)\n              (1): BatchNorm2d(1536, eps=0.001, momentum=0.1, affine=True, track_running_stats=True)\n              (2): SiLU(inplace=True)\n            )\n            (2): SqueezeExcitation(\n              (avgpool): AdaptiveAvgPool2d(output_size=1)\n              (fc1): Conv2d(1536, 64, kernel_size=(1, 1), stride=(1, 1))\n              (fc2): Conv2d(64, 1536, kernel_size=(1, 1), stride=(1, 1))\n              (activation): SiLU(inplace=True)\n              (scale_activation): Sigmoid()\n            )\n            (3): Conv2dNormActivation(\n              (0): Conv2d(1536, 256, kernel_size=(1, 1), stride=(1, 1), bias=False)\n              (1): BatchNorm2d(256, eps=0.001, momentum=0.1, affine=True, track_running_stats=True)\n            )\n          )\n          (stochastic_depth): StochasticDepth(p=0.195, mode=row)\n        )\n      )\n      (7): Conv2dNormActivation(\n        (0): Conv2d(256, 1280, kernel_size=(1, 1), stride=(1, 1), bias=False)\n        (1): BatchNorm2d(1280, eps=0.001, momentum=0.1, affine=True, track_running_stats=True)\n        (2): SiLU(inplace=True)\n      )\n    )\n    (avgpool): AdaptiveAvgPool2d(output_size=1)\n    (classifier): Sequential(\n      (0): Dropout(p=0.2, inplace=True)\n      (1): Linear(in_features=1280, out_features=1000, bias=True)\n    )\n  )\n)"
     },
     "metadata": {},
     "output_type": "display_data"
    },
    {
     "name": "stdout",
     "output_type": "stream",
     "text": [
      "Epoch: 1/100, Iter: 21/21, Loss: 0.34575825929641724\n",
      "Avg: 0.22868129540057408\n",
      "Epoch: 2/100, Iter: 21/21, Loss: 0.16789892315864563\n",
      "Avg: 0.193085368900072\n",
      "Epoch: 3/100, Iter: 21/21, Loss: 0.38388526439666752\n",
      "Avg: 0.19160312414169312\n",
      "Epoch: 4/100, Iter: 21/21, Loss: 0.24938370287418365\n",
      "Avg: 0.21872200497559138\n",
      "Epoch: 5/100, Iter: 21/21, Loss: 0.057269152253866196\n",
      "Avg: 0.18192345844138236\n",
      "Epoch: 6/100, Iter: 21/21, Loss: 0.15463419258594513\n",
      "Avg: 0.17569203355482646\n",
      "Epoch: 7/100, Iter: 21/21, Loss: 0.30138558149337778\n",
      "Avg: 0.19815607581819808\n",
      "Epoch: 8/100, Iter: 21/21, Loss: 0.23643171787261963\n",
      "Avg: 0.19819107722668422\n",
      "Epoch: 9/100, Iter: 21/21, Loss: 0.28539717197418213\n",
      "Avg: 0.1873427735907691\n",
      "Epoch: 10/100, Iter: 21/21, Loss: 0.14154356718063354\n",
      "Avg: 0.18748505555448078\n",
      "Epoch: 11/100, Iter: 21/21, Loss: 0.28087109327316284\n",
      "Avg: 0.19498857642923081\n",
      "Epoch: 12/100, Iter: 21/21, Loss: 0.22590678930282593\n",
      "Avg: 0.17278869840360822\n",
      "Epoch: 13/100, Iter: 21/21, Loss: 0.21535073220729828\n",
      "Avg: 0.18344867903561818\n",
      "Epoch: 14/100, Iter: 21/21, Loss: 0.07901509106159214\n",
      "Avg: 0.16876382948387236\n",
      "Epoch: 15/100, Iter: 21/21, Loss: 0.09024295210838318\n",
      "Avg: 0.20251578447364627\n",
      "Epoch: 16/100, Iter: 21/21, Loss: 0.24331159889698029\n",
      "Avg: 0.1930114378531774\n",
      "Epoch: 17/100, Iter: 21/21, Loss: 0.23574343323707585\n",
      "Avg: 0.19317468557329404\n",
      "Epoch: 18/100, Iter: 21/21, Loss: 0.11424498260021217\n",
      "Avg: 0.17214469256855192\n",
      "Epoch: 19/100, Iter: 21/21, Loss: 0.13828152418136597\n",
      "Avg: 0.16018341481685638\n",
      "Epoch: 20/100, Iter: 21/21, Loss: 0.21413061022758484\n",
      "Avg: 0.17482635307879674\n",
      "Epoch: 21/100, Iter: 16/21, Loss: 0.19793418049812317"
     ]
    }
   ],
   "source": [
    "model = train()\n",
    "torch.save(model, \"model.pt\")"
   ],
   "metadata": {
    "collapsed": false,
    "pycharm": {
     "name": "#%%\n",
     "is_executing": true
    }
   }
  },
  {
   "cell_type": "markdown",
   "source": [
    "We utilize the cosine similarity criterion to compare two signatures. The closer the value is to 0, the more alike the signatures appear to be.\n",
    "In the next cell `Pos` is the similarity between `anchor` and `positive` images (should be close to 0), `Neg` represents the similarity between `anchor` and `negative` images."
   ],
   "metadata": {
    "collapsed": false,
    "pycharm": {
     "name": "#%% md\n"
    }
   }
  },
  {
   "cell_type": "code",
   "execution_count": null,
   "outputs": [],
   "source": [
    "model = torch.load(\"weights/best.pt\")\n",
    "test()"
   ],
   "metadata": {
    "collapsed": false,
    "pycharm": {
     "name": "#%%\n",
     "is_executing": true
    }
   }
  },
  {
   "cell_type": "code",
   "execution_count": null,
   "outputs": [],
   "source": [
    "print(\"Hello, World!\")"
   ],
   "metadata": {
    "collapsed": false,
    "pycharm": {
     "name": "#%%\n",
     "is_executing": true
    }
   }
  },
  {
   "cell_type": "code",
   "execution_count": null,
   "outputs": [],
   "source": [],
   "metadata": {
    "collapsed": false,
    "pycharm": {
     "name": "#%%\n",
     "is_executing": true
    }
   }
  }
 ],
 "metadata": {
  "kernelspec": {
   "display_name": "Python 3",
   "language": "python",
   "name": "python3"
  },
  "language_info": {
   "codemirror_mode": {
    "name": "ipython",
    "version": 2
   },
   "file_extension": ".py",
   "mimetype": "text/x-python",
   "name": "python",
   "nbconvert_exporter": "python",
   "pygments_lexer": "ipython2",
   "version": "2.7.6"
  }
 },
 "nbformat": 4,
 "nbformat_minor": 0
}