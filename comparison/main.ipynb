{
 "cells": [
  {
   "cell_type": "code",
   "execution_count": null,
   "outputs": [],
   "source": [
    "import sys\n",
    "\n",
    "sys.path.append(\"..\")\n",
    "\n",
    "from math import ceil\n",
    "\n",
    "import torch\n",
    "import torch.nn.functional as F\n",
    "from IPython.display import display\n",
    "from torch import optim, nn\n",
    "from torch.utils.data import DataLoader\n",
    "from torchvision import transforms\n",
    "from torchvision.models import efficientnet_v2_s\n",
    "from torchvision.transforms import InterpolationMode\n",
    "\n",
    "from tri_dataset import TriDataset\n",
    "from tri_net import TriNet\n",
    "\n",
    "from comparator import Comparator"
   ],
   "metadata": {
    "collapsed": false,
    "pycharm": {
     "name": "#%%\n"
    }
   }
  },
  {
   "cell_type": "code",
   "execution_count": null,
   "outputs": [],
   "source": [
    "train_path = \"dataset/train/\"\n",
    "test_path = \"dataset/test\"\n",
    "batch_size = 32\n",
    "lr = 0.0001\n",
    "momentum = 0.9\n",
    "epochs = 100\n",
    "input_size = 224\n",
    "\n",
    "aug_rotation = 10\n",
    "aug_translate = (0.05, 0.05)\n",
    "aug_scale = (1, 1)\n",
    "\n",
    "augmentation = transforms.RandomAffine(\n",
    "\tdegrees=aug_rotation,\n",
    "\ttranslate=aug_translate,\n",
    "\tscale=aug_scale,\n",
    "\tinterpolation=InterpolationMode.BILINEAR,\n",
    "\tfill=255\n",
    ")\n",
    "\n",
    "transform = transforms.Compose([\n",
    "\taugmentation,\n",
    "\tlambda image: Comparator.preprocess_image(image, input_size),\n",
    "\t# lambda image: display(image) or image,\n",
    "\tComparator.image_to_tensor()\n",
    "])"
   ],
   "metadata": {
    "collapsed": false,
    "pycharm": {
     "name": "#%%\n"
    }
   }
  },
  {
   "cell_type": "code",
   "execution_count": null,
   "outputs": [],
   "source": [
    "def train():\n",
    "\t# architecture = efficientnet_v2_s()\n",
    "\t# architecture.features[0][0] = nn.Conv2d(1, 24, kernel_size=(3, 3), stride=(2, 2), padding=(1, 1), bias=False)\n",
    "\t# model = TriNet(architecture)\n",
    "\tmodel = torch.load(\"weights/best.pt\")\n",
    "\n",
    "\tdataset = TriDataset(train_path, transform=transform)\n",
    "\tdata_loader = DataLoader(dataset, batch_size=batch_size, shuffle=True)\n",
    "\toptimizer = optim.Adam(model.parameters(), lr=lr)\n",
    "\n",
    "\tloss_fn = nn.TripletMarginWithDistanceLoss(\n",
    "\t\tdistance_function=lambda x, y: (1.0 - F.cosine_similarity(x, y))\n",
    "\t)\n",
    "\n",
    "\tmodel.to(device)\n",
    "\tdisplay(model)\n",
    "\n",
    "\titer_count = ceil(len(dataset) / batch_size)\n",
    "\n",
    "\tfor epoch in range(epochs):\n",
    "\t\tmodel.train()\n",
    "\t\ti = 0\n",
    "\t\trunning_loss = 0\n",
    "\n",
    "\t\tfor batch_idx, (anchor, positive, negative) in enumerate(data_loader):\n",
    "\t\t\toptimizer.zero_grad()\n",
    "\n",
    "\t\t\tanchor = anchor.to(device)\n",
    "\t\t\tpositive = positive.to(device)\n",
    "\t\t\tnegative = negative.to(device)\n",
    "\n",
    "\t\t\t(anchor, positive, negative) = model.forward_tri(anchor, positive, negative)\n",
    "\t\t\tloss = loss_fn(anchor, positive, negative)\n",
    "\n",
    "\t\t\tloss.backward()\n",
    "\t\t\toptimizer.step()\n",
    "\n",
    "\t\t\tif i < iter_count:\n",
    "\t\t\t\tprint('\\r', end='')\n",
    "\n",
    "\t\t\ti += 1\n",
    "\t\t\tloss_item = loss.item()\n",
    "\n",
    "\t\t\tprint(f\"Epoch: {epoch + 1}/{epochs}, Iter: {i}/{iter_count}, Loss: {loss_item}\", end='')\n",
    "\n",
    "\t\t\trunning_loss += loss_item\n",
    "\t\t\tif i == iter_count:\n",
    "\t\t\t\tprint(f\"\\nAvg: {running_loss / iter_count}\")\n",
    "\t\t\t\trunning_loss = 0\n",
    "\n",
    "\t\tif (epoch + 1) % 100 == 0:\n",
    "\t\t\ttorch.save(model, f\"model_{epoch + 1}.pt\")\n",
    "\treturn model"
   ],
   "metadata": {
    "collapsed": false,
    "pycharm": {
     "name": "#%%\n"
    }
   }
  },
  {
   "cell_type": "code",
   "execution_count": null,
   "outputs": [],
   "source": [
    "def test():\n",
    "\tdataset = TriDataset(test_path, transform=transform)\n",
    "\tdata_loader = DataLoader(dataset, batch_size=1, shuffle=False)\n",
    "\tmodel.eval()\n",
    "\twith torch.no_grad():\n",
    "\t\tfor batch_idx, (anchor, positive, negative) in enumerate(data_loader):\n",
    "\t\t\tanchor = anchor.to(device)\n",
    "\t\t\tpositive = positive.to(device)\n",
    "\t\t\tnegative = negative.to(device)\n",
    "\t\t\tanchor, positive, negative = model.forward_tri(anchor, positive, negative)\n",
    "\n",
    "\t\t\tpos = (1 - nn.functional.cosine_similarity(anchor, positive)) / 2\n",
    "\t\t\tneg = (1 - nn.functional.cosine_similarity(anchor, negative)) / 2\n",
    "\n",
    "\t\t\tprint(\n",
    "\t\t\t\tf\"Pos: {pos.item()}, Neg: {neg.item()}\")\n"
   ],
   "metadata": {
    "collapsed": false,
    "pycharm": {
     "name": "#%%\n"
    }
   }
  },
  {
   "cell_type": "code",
   "execution_count": null,
   "outputs": [],
   "source": [
    "device = torch.device('cuda' if torch.cuda.is_available() else 'cpu')"
   ],
   "metadata": {
    "collapsed": false,
    "pycharm": {
     "name": "#%%\n"
    }
   }
  },
  {
   "cell_type": "code",
   "execution_count": null,
   "outputs": [],
   "source": [
    "model = train()\n",
    "torch.save(model, \"model.pt\")"
   ],
   "metadata": {
    "collapsed": false,
    "pycharm": {
     "name": "#%%\n"
    }
   }
  },
  {
   "cell_type": "markdown",
   "source": [
    "We utilize the cosine similarity criterion to compare two signatures. The closer the value is to 0, the more alike the signatures appear to be.\n",
    "In the next cell `Pos` is the similarity between `anchor` and `positive` images (should be close to 0), `Neg` represents the similarity between `anchor` and `negative` images."
   ],
   "metadata": {
    "collapsed": false,
    "pycharm": {
     "name": "#%% md\n"
    }
   }
  },
  {
   "cell_type": "code",
   "execution_count": null,
   "outputs": [],
   "source": [
    "model = torch.load(\"weights/best.pt\")\n",
    "test()"
   ],
   "metadata": {
    "collapsed": false,
    "pycharm": {
     "name": "#%%\n"
    }
   }
  },
  {
   "cell_type": "code",
   "execution_count": null,
   "outputs": [],
   "source": [
    "print(\"Hello, World!\")"
   ],
   "metadata": {
    "collapsed": false,
    "pycharm": {
     "name": "#%%\n"
    }
   }
  },
  {
   "cell_type": "code",
   "execution_count": null,
   "outputs": [],
   "source": [
    "model = torch.load(\"weights/best.pt\")\n",
    "test()"
   ],
   "metadata": {
    "collapsed": false,
    "pycharm": {
     "name": "#%%\n",
     "is_executing": true
    }
   }
  },
  {
   "cell_type": "code",
   "execution_count": null,
   "outputs": [],
   "source": [
    "print(\"Hello, World!\")"
   ],
   "metadata": {
    "collapsed": false,
    "pycharm": {
     "name": "#%%\n",
     "is_executing": true
    }
   }
  },
  {
   "cell_type": "code",
   "execution_count": null,
   "outputs": [],
   "source": [],
   "metadata": {
    "collapsed": false,
    "pycharm": {
     "name": "#%%\n",
     "is_executing": true
    }
   }
  }
 ],
 "metadata": {
  "kernelspec": {
   "display_name": "Python 3",
   "language": "python",
   "name": "python3"
  },
  "language_info": {
   "codemirror_mode": {
    "name": "ipython",
    "version": 2
   },
   "file_extension": ".py",
   "mimetype": "text/x-python",
   "name": "python",
   "nbconvert_exporter": "python",
   "pygments_lexer": "ipython2",
   "version": "2.7.6"
  }
 },
 "nbformat": 4,
 "nbformat_minor": 0
}